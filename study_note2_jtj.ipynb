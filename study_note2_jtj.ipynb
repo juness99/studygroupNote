{
 "cells": [
  {
   "cell_type": "markdown",
   "metadata": {},
   "source": [
    "# [Problem1]\n",
    "print를 한줄에 2개 이상 써서 사용해주세요.\n",
    "```\n",
    "예제)\n",
    "    print(\"안녕, \") print(\"Jupyter\")\n",
    "```"
   ]
  },
  {
   "cell_type": "code",
   "execution_count": 1,
   "metadata": {},
   "outputs": [
    {
     "name": "stdout",
     "output_type": "stream",
     "text": [
      "안녕, \n",
      "Jupyter\n"
     ]
    }
   ],
   "source": [
    "print(\"안녕, \");print(\"Jupyter\")"
   ]
  },
  {
   "cell_type": "markdown",
   "metadata": {},
   "source": [
    "<p style=\"color:orange;font-weight:bold\">\n",
    "    파이썬에서 <span style=\"color:white;font-weight:bold;background-color:gray\">&nbsp;;&nbsp;</span>의 의미를 알고 있느냐에 대한 문제입니다.<br>\n",
    "자주 사용하거나 권하는 방도는 아닙니다.<br>\n",
    "다만, 이렇게도 사용하는 개발자들이 있으니 코드를 리뷰할 때 참고하라는 문제입니다.\n",
    "<br><br>\n",
    "    참고적으로, <span style=\"color:white;font-weight:bold;background-color:gray\">&nbsp;,&nbsp;</span>&nbsp;를 사용해도 되긴합니다.\n",
    "</p>"
   ]
  },
  {
   "cell_type": "markdown",
   "metadata": {},
   "source": [
    "# [Problem2]\n",
    "print를 하나로 아래 문장을 써주세요.\n",
    "```\n",
    "예제)\n",
    "    안녕하세요\n",
    "    저는 파이썬을\n",
    "        배우고 있는\n",
    "            사람입니다.\n",
    "```"
   ]
  },
  {
   "cell_type": "code",
   "execution_count": 2,
   "metadata": {},
   "outputs": [
    {
     "name": "stdout",
     "output_type": "stream",
     "text": [
      "\n",
      "안녕하세요\n",
      "저는 파이썬을\n",
      "    배우고 있는\n",
      "        사람입니다.\n",
      "\n"
     ]
    }
   ],
   "source": [
    "print(\"\"\"\n",
    "안녕하세요\n",
    "저는 파이썬을\n",
    "    배우고 있는\n",
    "        사람입니다.\n",
    "\"\"\")"
   ]
  },
  {
   "cell_type": "markdown",
   "metadata": {},
   "source": [
    "<p style=\"color:orange;font-weight:bold\">\n",
    "    파이썬에서 <span style=\"color:white;font-weight:bold;background-color:gray\">&nbsp;\"\"\" \"\"\"&nbsp;</span>의 의미를 알고 있느냐에 대한 문제입니다.<br>\n",
    "<span style=\"color:white;font-weight:bold;background-color:gray\">&nbsp;print()&nbsp;</span>에서는 다중 문자를 받을 수 있게 사용됩니다.<br>다른 사용법으로는 다중주석으로 사용되며, docs역할을 합니다.\n",
    "</p>"
   ]
  },
  {
   "cell_type": "markdown",
   "metadata": {},
   "source": [
    "# [Problem3]\n",
    "복소수 `complex_data`를 켤레복소수로 만드는 함수 `complex_conjugate`를 만들어주세요.\n",
    "```\n",
    "예제)\n",
    "    복소수의 표기는 본래 i이므로 i로 하도록 하겠습니다.\n",
    "    프로그래밍을 하는데에는 j로 사용하셔야 합니다.\n",
    "    complex_conjugate(5i) => -5i\n",
    "    complex_conjugate(3+7i) => (3-7i)\n",
    "```"
   ]
  },
  {
   "cell_type": "code",
   "execution_count": 3,
   "metadata": {},
   "outputs": [],
   "source": [
    "complex_data = 5+3j\n",
    "def complex_conjugate(x):\n",
    "    complex_real = x.real\n",
    "    complex_imag = -x.imag\n",
    "    result = complex(complex_real,complex_imag)\n",
    "    return result"
   ]
  },
  {
   "cell_type": "code",
   "execution_count": 4,
   "metadata": {},
   "outputs": [
    {
     "name": "stdout",
     "output_type": "stream",
     "text": [
      "(5-3j)\n"
     ]
    }
   ],
   "source": [
    "print(complex_conjugate(complex_data))"
   ]
  },
  {
   "cell_type": "code",
   "execution_count": 5,
   "metadata": {},
   "outputs": [
    {
     "name": "stdout",
     "output_type": "stream",
     "text": [
      "(5-3j)\n"
     ]
    }
   ],
   "source": [
    "print(complex_data.conjugate())"
   ]
  },
  {
   "cell_type": "markdown",
   "metadata": {},
   "source": [
    "<p style=\"color:orange;font-weight:bold\">\n",
    "    사용 빈도가 무지 적은 아니면 없다고 할 복소수이긴 합니다만,<br> <span style=\"color:white;font-weight:bold;background-color:gray\">&nbsp;.conjugate&nbsp;</span>를 사용해봄으로서 함수 사용을 익숙해지기 위한 문제입니다.</p>"
   ]
  },
  {
   "cell_type": "markdown",
   "metadata": {},
   "source": [
    "# [Problem4]\n",
    "10진수를 8진수로 변경하는 함수를 만들어주세요.\n",
    "```\n",
    "예제)\n",
    "    10 -> 0o12\n",
    "    7 -> 0o7\n",
    "    124 -> 0o174\n",
    "```"
   ]
  },
  {
   "cell_type": "code",
   "execution_count": 6,
   "metadata": {
    "scrolled": true
   },
   "outputs": [],
   "source": [
    "def octal_num(x):\n",
    "    result = \"\"\n",
    "    if x>>3 ==0:#x가 8보다 작을때\n",
    "        result += str(x)\n",
    "    while x>>3 > 0:\n",
    "        result += str(x%8)\n",
    "        x = x>>3\n",
    "        if x>>3 ==0:\n",
    "            result += str(x)\n",
    "    return \"0o\"+result[::-1]"
   ]
  },
  {
   "cell_type": "code",
   "execution_count": 7,
   "metadata": {},
   "outputs": [
    {
     "name": "stdout",
     "output_type": "stream",
     "text": [
      "0o7\n",
      "0o20\n",
      "0o41\n",
      "0o2322\n"
     ]
    }
   ],
   "source": [
    "print(octal_num(7))\n",
    "print(octal_num(16))\n",
    "print(octal_num(33))\n",
    "print(octal_num(1234))"
   ]
  },
  {
   "cell_type": "code",
   "execution_count": 8,
   "metadata": {},
   "outputs": [
    {
     "name": "stdout",
     "output_type": "stream",
     "text": [
      "True\n",
      "True\n",
      "True\n",
      "True\n",
      "True\n",
      "True\n",
      "True\n"
     ]
    }
   ],
   "source": [
    "print(octal_num(1)==oct(1))\n",
    "print(octal_num(7)==oct(7))\n",
    "print(octal_num(8)==oct(8))\n",
    "print(octal_num(16)==oct(16))\n",
    "print(octal_num(33)==oct(33))\n",
    "print(octal_num(1234)==oct(1234))\n",
    "print(octal_num(54321)==oct(54321))"
   ]
  },
  {
   "cell_type": "markdown",
   "metadata": {},
   "source": [
    "# [Problem5]\n",
    "리스트`list_data`에 중간값을 리턴하는 `center_value` 함수를 만들어주세요.\n",
    "```\n",
    "예제)\n",
    "    list_data = [1,2,3,4,5]\n",
    "    center_value(list_data) => 3\n",
    "```"
   ]
  },
  {
   "cell_type": "code",
   "execution_count": 9,
   "metadata": {},
   "outputs": [],
   "source": [
    "def center_value(x):\n",
    "    x = sorted(set(x))\n",
    "    if len(x)%2==0:\n",
    "        return x[len(x)//2-1],x[len(x)//2]\n",
    "    else:\n",
    "        return x[len(x)//2]"
   ]
  },
  {
   "cell_type": "code",
   "execution_count": 10,
   "metadata": {},
   "outputs": [
    {
     "name": "stdout",
     "output_type": "stream",
     "text": [
      "3\n",
      "3\n",
      "(3, 4)\n",
      "5\n",
      "(7, 8)\n"
     ]
    }
   ],
   "source": [
    "list_data = [3,2,1,5,4]\n",
    "print(center_value(list_data))\n",
    "print(center_value([3,2,1,5,4,5,5,5]))\n",
    "print(center_value([2,3,4,5,5,5]))\n",
    "print(center_value([5]))\n",
    "print(center_value([1,1,1,1,2,2,7,7,8,9,10]))"
   ]
  },
  {
   "cell_type": "markdown",
   "metadata": {},
   "source": [
    "<center><span style=\"color:white;font-weight:bold;background-color:gray;font-size:20px\">&nbsp;\"거인의 어깨 위에서 세상을 보는 자가 되시길.\"&nbsp;</span></center>"
   ]
  },
  {
   "cell_type": "markdown",
   "metadata": {},
   "source": [
    "<img src=\"./img/2_end.jpg\" alt=\"파이팅\">"
   ]
  }
 ],
 "metadata": {
  "kernelspec": {
   "display_name": "Python 3",
   "language": "python",
   "name": "python3"
  },
  "language_info": {
   "codemirror_mode": {
    "name": "ipython",
    "version": 3
   },
   "file_extension": ".py",
   "mimetype": "text/x-python",
   "name": "python",
   "nbconvert_exporter": "python",
   "pygments_lexer": "ipython3",
   "version": "3.6.7"
  }
 },
 "nbformat": 4,
 "nbformat_minor": 2
}

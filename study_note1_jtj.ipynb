{
 "cells": [
  {
   "cell_type": "markdown",
   "metadata": {},
   "source": [
    "<span style=\"color:#FFA500\"><b>Problem2, 3은 소스가 어느정도 주어진 상태에서 완성하는 문제인데,<br> 가능하다면 참조하지 않고 풀어보길 바랍니다.</b></span>\n",
    "\n",
    "\n",
    "\n",
    "<div class=\"eb-markdown material-exercise-readme-content material-exercise-readme-content--instructions\"><h1><strong>[Problem1]</strong></h1></div>\n",
    "<div class=\"eb-markdown material-exercise-readme-content\"><h2><strong>개굴개굴 개구리</strong></h2>\n",
    "<p>‘내가 개구리로 변해버렸다고?!’</p>\n",
    "<p>왕구리는 놀란 채로 외쳤습니다.</p>\n",
    "<p>“개굴!”</p>\n",
    "<p>개구리가 된 왕구리는 인간의 언어를 사용할 수 없었습니다. 어떠한 말을 내뱉으려고 해도 그저 \"개굴\"이라는 말밖에는 나오지 않았습니다.</p>\n",
    "<hr>\n",
    "<p><img src=\"./img/p1.png\" alt=\"p1.png\"></p>\n",
    "</div>\n",
    "\n",
    "<ul>\n",
    "<li>한글로 된 임의의 길이의 문자열을 입력시 그 길이만큼 \"개굴\"을 출력하도록 하세요. 단, 공백은 그대로 유지되어야 합니다.</li>\n",
    "</ul>\n",
    "<p><strong>입력예시</strong></p>\n",
    "<pre id=\"pre-6\"><code>안녕 나는 왕구리야</code>\n",
    "</pre>\n",
    "<p><strong>결과예시</strong></p>\n",
    "<pre id=\"pre-10\"><code>개굴개굴 개굴개굴 개굴개굴개굴개굴\n",
    "</code></pre>\n"
   ]
  },
  {
   "cell_type": "code",
   "execution_count": 1,
   "metadata": {},
   "outputs": [
    {
     "name": "stdout",
     "output_type": "stream",
     "text": [
      "안녕 나는 왕구리야\n",
      "개굴개굴 개굴개굴 개굴개굴개굴개굴 "
     ]
    }
   ],
   "source": [
    "inputValue = input()\n",
    "inputSplit = inputValue.split(\" \")\n",
    "\n",
    "for i in inputSplit:\n",
    "    a = len(i)\n",
    "    print(\"개굴\"*a, end=' ')\n",
    "result = \"\""
   ]
  },
  {
   "cell_type": "code",
   "execution_count": 2,
   "metadata": {},
   "outputs": [
    {
     "name": "stdout",
     "output_type": "stream",
     "text": [
      "안녕 나는 왕구리야\n",
      "개굴개굴 개굴개굴 개굴개굴개굴개굴\n"
     ]
    }
   ],
   "source": [
    "#방도2\n",
    "inputValue = input()\n",
    "result = \"\"\n",
    "for i in inputValue:\n",
    "    if i==\" \":\n",
    "        result += i\n",
    "    else:\n",
    "        result += \"개굴\"\n",
    "print(result)"
   ]
  },
  {
   "cell_type": "markdown",
   "metadata": {},
   "source": [
    "<h1><strong>[Problem2]</strong></h1>\n",
    "<div class=\"material-exercise-readme\"><div class=\"eb-markdown material-exercise-readme-content\"><h2><strong>구름다리를 건너는 토끼</strong></h2>\n",
    "<p>토끼는 강을 건너기 위해 구름다리를 건너려고 합니다.</p>\n",
    "<p><img src=\"./img/p2_1.png\" alt=\"p2_1.png\"></p>\n",
    "<hr>\n",
    "<p>다리 앞에는 다음과 같은 글귀가 써있었습니다.</p>\n",
    "<p><img src=\"./img/p2_2.png\" alt=\"p2_2.png\"></p>\n",
    "<hr>\n",
    "<p>구름다리의 발판에 적혀있는 숫자가 첫 번째부터 순서대로 들어있는 배열 steps가 매개변수로 주어질 때, 토끼가 구름다리를 모두 건너기 위해 필요한 점프 횟수를 반환하도록 <strong>crossBridge 함수</strong>를 작성하고자 합니다.</p>\n",
    "<br>\n",
    "</div><div class=\"eb-markdown material-exercise-readme-content material-exercise-readme-content--instructions\">\n",
    "<ul>\n",
    "<li>발판의 숫자들이 담긴 배열 steps가 주어졌을 때 토끼가 뛰어야 할 횟수를 반환하는 함수 crossBridge()의 빈칸을 채워 함수를 완성해봅시다.</li>\n",
    "</ul>\n",
    "<p><strong>예를들어 이렇게 호출하면</strong></p>\n",
    "<pre id=\"pre-6\"><code>crossBridge([1, 1, 2, 3, 5])\n",
    "</code></pre>\n",
    "<p><strong>다음 값이 반환됩니다.</strong></p>\n",
    "<pre id=\"pre-10\"><code class=\"language-python\">4\n",
    "</code></pre>\n",
    "<h5>설명</h5>\n",
    "<p>1번째 칸이 숫자 1이므로 1칸 점프합니다.<br>\n",
    "2번째 칸이 숫자 1이므로 1칸 점프합니다.<br>\n",
    "3번째 칸이 숫자 2이므로 2칸 점프합니다.<br>\n",
    "5번째 칸이 숫자 5이므로 5칸 점프합니다. (도착)<br>\n",
    "4번 점프했으므로 4를 반환합니다.</p>\n",
    "</div></div>\n",
    "\n",
    "<br>\n",
    "\n",
    "```python\n",
    "def crossBridge(steps):\n",
    "    cnt = 0\n",
    "    current = 0\n",
    "    n = len(steps)\n",
    "    while (/* 이곳을 채워주세요! */):\n",
    "        current += /* 이곳을 채워주세요! */\n",
    "        cnt += 1\n",
    "    return cnt\n",
    "```"
   ]
  },
  {
   "cell_type": "code",
   "execution_count": 3,
   "metadata": {},
   "outputs": [
    {
     "name": "stdout",
     "output_type": "stream",
     "text": [
      "4번 점프했습니다.\n"
     ]
    }
   ],
   "source": [
    "def crossBridge(x):\n",
    "    index = 0\n",
    "    count = 0\n",
    "\n",
    "    while index < len(x):\n",
    "            index = index + x[index]\n",
    "            count = count + 1\n",
    "    return count\n",
    "\n",
    "result = crossBridge([1, 1, 2, 3, 5])\n",
    "\n",
    "print(f'{result}번 점프했습니다.')"
   ]
  },
  {
   "cell_type": "markdown",
   "metadata": {},
   "source": [
    "<p style=\"color:orange;font-weight:bold\">위의 문제는 다소 문제점이 있는 점도 있으니,<br><span style=\"color:white;font-weight:bold;background-color:gray\">&nbsp;crossBridge([1, 1, 2, 3, 5])&nbsp;</span>&nbsp;일때 답이 나온다면 넘어가주세요.</p>\n",
    "<br><br>"
   ]
  },
  {
   "cell_type": "markdown",
   "metadata": {},
   "source": [
    "<h1><strong>[Problem3]</strong></h1>\n",
    "<div class=\"material-exercise-readme\"><div class=\"eb-markdown material-exercise-readme-content\"><h2><strong>개구리 왕자 이름 찾기</strong></h2>\n",
    "<p>“혹시 여기에 개구리 왕자님이 계신가요?”</p>\n",
    "<p>엘사는 수많은 개구리 중 이름이 F로 시작하는 개구리 왕자를 찾으려고 합니다.</p>\n",
    "<p>(단, 개구리들은 개성이 넘쳐서 이름과 시작하는 알파벳이 다릅니다.)</p>\n",
    "<hr>\n",
    "<p>문자열이 여러개 담긴 리스트 frogList가 매개변수로 주어졌을 때, 문자열이 'F’로 시작하면 그 이름을 return 하도록 <strong>isPrince() 함수</strong>를 작성했습니다. 그러나, 코드 일부분이 잘못되어있기 때문에 코드가 올바르게 동작하지 않습니다. 주어진 코드를 변경해서 대해 올바르게 동작하도록 수정하세요.</p>\n",
    "<hr>\n",
    "<p><img src=\"./img/p3.png\" alt=\"p3.png\"></p>\n",
    "<br>\n",
    "</div><div class=\"eb-markdown material-exercise-readme-content material-exercise-readme-content--instructions\">\n",
    "<ul>\n",
    "<li>frogList에 담긴 문자열 중 'F’로 시작하는 값을 return 하는 isPrince 함수를 동작하도록 수정하기.</li>\n",
    "</ul>\n",
    "<p>(단, frogList에는 반드시 F으로 시작하는 이름이 하나 들어있습니다.)</p>\n",
    "<p><strong>예를들어 이렇게 함수를 호출하면</strong></p>\n",
    "<pre id=\"pre-8\"><code>isPrince(['Alice', 'Bob', 'Frog'])\n",
    "</code></pre>\n",
    "<p><strong>이렇게 반환합니다.</strong></p>\n",
    "<pre id=\"pre-12\"><code>Frog\n",
    "</code></pre></div></div>\n",
    "<br>\n",
    "\n",
    "```python\n",
    "def isPrince(frogList):\n",
    "    for elem in frogList:\n",
    "        if elem[0] == \"F\":\n",
    "            pass\n",
    "        return None\n",
    "```"
   ]
  },
  {
   "cell_type": "code",
   "execution_count": 4,
   "metadata": {},
   "outputs": [
    {
     "data": {
      "text/plain": [
       "'Frog'"
      ]
     },
     "execution_count": 4,
     "metadata": {},
     "output_type": "execute_result"
    }
   ],
   "source": [
    "def isPrince(frogList):\n",
    "    for elem in frogList:\n",
    "        if elem[0] == \"F\":\n",
    "            return elem\n",
    "    return \"없음\"#꼭 하나 있으니 없을 수 없음\n",
    "\n",
    "isPrince(['Alice', 'Bob', 'Frog'])"
   ]
  },
  {
   "cell_type": "markdown",
   "metadata": {},
   "source": [
    "<h1><strong>[Problem4]</strong></h1>\n",
    "<div class=\"material-exercise-readme\"><div class=\"eb-markdown material-exercise-readme-content\"><h2><strong>토끼와 거북이의 달리기 경주</strong></h2>\n",
    "<p>토끼와 거북이가 달리기 경주를 시작했습니다.</p>\n",
    "<p>토끼는 N분에 한번 휴식을 하고 거북이는 M분에 한번 휴식을 한다고 합니다.</p>\n",
    "<p>토끼와 거북이가 처음으로 같은 타이밍에 쉬는 시간은 언제일까요?</p>\n",
    "<hr>\n",
    "<p><img src=\"./img/p4.png\" alt=\"p4.png\"></p>\n",
    "<br>\n",
    "</div><div class=\"eb-markdown material-exercise-readme-content material-exercise-readme-content--instructions\">\n",
    "<ul>\n",
    "<li>토끼의 휴식시간 N과 거북이의 휴식시간 M이 매게 변수로 주어졌을때, 토끼와 거북이가 동시에 휴식하는 최초의 시간을 출력하는 프로그램을 작성해봅시다.</li>\n",
    "</ul>\n",
    "<p><strong>예를들어 다음 입력이 주어지면</strong></p>\n",
    "<pre id=\"pre-6\"><code>3 5\n",
    "</code></pre>\n",
    "<p><strong>이렇게 출력됩니다.</strong></p>\n",
    "<pre id=\"pre-10\"><code>15\n",
    "</code></pre>\n",
    "</div></div>\n"
   ]
  },
  {
   "cell_type": "code",
   "execution_count": 5,
   "metadata": {},
   "outputs": [
    {
     "name": "stdout",
     "output_type": "stream",
     "text": [
      "토끼의 휴식시간을 숫자로 입력해주세요3\n",
      "거북이의 휴식시간을 숫자로 입력해주세요5\n",
      "15.0\n"
     ]
    }
   ],
   "source": [
    "rabbitRest = int(input(\"토끼의 휴식시간을 숫자로 입력해주세요\"))\n",
    "turtleRest = int(input(\"거북이의 휴식시간을 숫자로 입력해주세요\"))\n",
    "\n",
    "def lcm(x,y):#least common multiple\n",
    "    while(y!=0):\n",
    "        temp = x%y\n",
    "        x = y\n",
    "        y = temp\n",
    "    return x\n",
    "\n",
    "def gcd(x,y):#greatest common divisor\n",
    "    result = x*y/(lcm(x,y))\n",
    "    print(result)\n",
    "\n",
    "gcd(rabbitRest,turtleRest)"
   ]
  },
  {
   "cell_type": "markdown",
   "metadata": {},
   "source": [
    "<h1><strong>[Problem5]</strong></h1>\n",
    "<div class=\"material-exercise-readme\"><div class=\"eb-markdown material-exercise-readme-content\"><h2><strong>싸피와 별 헤는 밤</strong></h2>\n",
    "<p>밤이 깊어지자 싸피 머리 위에는 별이 보이기 시작했습니다.</p>\n",
    "<p>주어진 조건(별의 거리)에 따라 달라지는 별을 출력해 봅시다.</p>\n",
    "<h4>별의 거리 = 3</h4>\n",
    "<pre><code>*   *   *\n",
    "  *   *\n",
    "</code></pre>\n",
    "<h4>별의 거리 = 6</h4>\n",
    "<pre><code>*      *      *\n",
    "    *     *    \n",
    "</code></pre>\n",
    "<p><img src=\"./img/p5.png\" alt=\"p5.png\"></p>\n",
    "<br>\n",
    "</div><div class=\"eb-markdown material-exercise-readme-content material-exercise-readme-content--instructions\">\n",
    "<ul>\n",
    "<li>별의 거리 i가 입력으로 주어질 때, 별 사이의 거리가 i인 W모양의 대칭인 별자리를 출력하세요.</li>\n",
    "<li>단, 별의 거리 i가 짝수이면 2행의 두 별 사이의 거리는 i-1입니다.</li>\n",
    "</ul>\n",
    "<p><strong>예시 입력 1</strong></p>\n",
    "<pre id=\"pre-6\"><code>3\n",
    "</code></pre>\n",
    "<p><strong>예시 출력 1</strong></p>\n",
    "<pre id=\"pre-10\"><code>*   *   *\n",
    "  *   *   \n",
    "</code></pre>\n",
    "<p><strong>예시 설명 1</strong><br>\n",
    "같은 행에 있는 별 사이의 거리가 3입니다.</p>\n",
    "<p><strong>예시 입력 2</strong></p>\n",
    "<pre id=\"pre-16\"><code>4\n",
    "</code></pre>\n",
    "<p><strong>예시 출력 2</strong></p>\n",
    "<pre id=\"pre-20\"><code>*    *    *\n",
    "   *   *\n",
    "</code></pre>\n",
    "<p><strong>예시 설명 2</strong><br>\n",
    "1행에 있는 별 사이의 거리가 4입니다.<br>\n",
    "대칭성을 유지하기 위해 2번째 행에 있는 두 별 사이의 거리는 4 - 1 = 3입니다.</p>\n",
    "</div></div>\n"
   ]
  },
  {
   "cell_type": "code",
   "execution_count": 6,
   "metadata": {},
   "outputs": [
    {
     "name": "stdout",
     "output_type": "stream",
     "text": [
      "숫자를 넣어주세요4\n",
      "*    *    *\n",
      "   *   *\n"
     ]
    }
   ],
   "source": [
    "star = \"*\"\n",
    "white_space = \" \"\n",
    "\n",
    "try:\n",
    "    N = int(input(\"숫자를 넣어주세요\"))\n",
    "    low2_w = 1\n",
    "    low2_w = low2_w + int(N/2)\n",
    "\n",
    "    if(N%2==0):#짝수일때\n",
    "        print((star+(white_space*N))*2+star)\n",
    "        print(low2_w*white_space+star+white_space*(N-1)+star)\n",
    "    else:#홀수일때\n",
    "        print((star+(white_space*N))*2+star)\n",
    "        print(low2_w*white_space+star+white_space*N+star)\n",
    "except(ValueError):\n",
    "    print(\"숫자를 넣어주세요\")"
   ]
  },
  {
   "cell_type": "markdown",
   "metadata": {},
   "source": [
    "<p style=\"color:orange;font-weight:bold\">\n",
    "&nbsp;위의 소스보다 더 짧고 쉽게 짤수도 있으며, 방도는 많으나<br>\n",
    "위의 소스를 고치지 않고 첨부하였습니다.<br>\n",
    "에러 처리인 <span style=\"color:white;font-weight:bold;background-color:gray\">&nbsp;try~except&nbsp;</span>의 사용법을 보여주기 위함입니다.<br>\n",
    "보다 직관적이면서도 짧고 효율적인 소스는 있으나,<br>\n",
    "이는 배운 내용들로 충분히 하실 수 있다 생각합니다.\n",
    "</p>"
   ]
  }
 ],
 "metadata": {
  "kernelspec": {
   "display_name": "Python 3",
   "language": "python",
   "name": "python3"
  },
  "language_info": {
   "codemirror_mode": {
    "name": "ipython",
    "version": 3
   },
   "file_extension": ".py",
   "mimetype": "text/x-python",
   "name": "python",
   "nbconvert_exporter": "python",
   "pygments_lexer": "ipython3",
   "version": "3.6.7"
  }
 },
 "nbformat": 4,
 "nbformat_minor": 2
}

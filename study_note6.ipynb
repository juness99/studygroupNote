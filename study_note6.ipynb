{
 "cells": [
  {
   "cell_type": "markdown",
   "metadata": {},
   "source": [
    "# Problem1\n",
    "### 달팽이 그리기(반대)\n",
    "\n",
    "이중list에 담아서 list를 for문 하나를 통해 출력하면 아래와 같은 형태로 나오면 됩니다.\n",
    "\n",
    "```\n",
    "결과물)\n",
    "\n",
    "[25, 24, 23, 22, 21]\n",
    "[10,  9,  8,  7, 20]\n",
    "[11,  2,  1,  6, 19]\n",
    "[12,  3,  4,  5, 18]\n",
    "[13, 14, 15, 16, 17]\n",
    "```\n",
    "보기좋게 만든거일 뿐이니 나오는 숫자가 비슷하면 정답인정.\n",
    "\n",
    "<p style=\"color:orange;font-weight:bold\">But!<br>\n",
    "달팽이 그리기 했던 것에서 숫자 거꾸로 시작하는것이 아닌,<br>\n",
    "시작점은 1부터 시작해서 밖으로 나오는식으로 소스 작성해야 인정.</p>\n"
   ]
  },
  {
   "cell_type": "code",
   "execution_count": null,
   "metadata": {},
   "outputs": [],
   "source": []
  }
 ],
 "metadata": {
  "kernelspec": {
   "display_name": "Python 3",
   "language": "python",
   "name": "python3"
  },
  "language_info": {
   "codemirror_mode": {
    "name": "ipython",
    "version": 3
   },
   "file_extension": ".py",
   "mimetype": "text/x-python",
   "name": "python",
   "nbconvert_exporter": "python",
   "pygments_lexer": "ipython3",
   "version": "3.6.7"
  }
 },
 "nbformat": 4,
 "nbformat_minor": 2
}

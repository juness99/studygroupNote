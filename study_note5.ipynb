{
 "cells": [
  {
   "cell_type": "markdown",
   "metadata": {},
   "source": [
    "# 이중 배열\n",
    "C언어와 Java에서는 Array(배열)을 통한 문제이지만,<br>\n",
    "<b>Python</b>에서는 Array가 없기에 그와 비슷한 <span style=\"color:blue\">Tuple, List</span>을 이용해서 만들어보세요.<br>\n",
    "<br>\n",
    "튜플이나 리스트 중에서 편하신 것으로 만드시면 됩니다.\n",
    "<br>\n",
    "### Problem1\n",
    "<img src=\"./img/array_snail_p1.png\" alt=\"이중 배열 문제1\">\n",
    "\n",
    "```\n",
    "[1, 2, 3, 4, 5]\n",
    "[6, 7, 8, 9, 10]\n",
    "[11, 12, 13, 14, 15]\n",
    "[16, 17, 18, 19, 20]\n",
    "[21, 22, 23, 24, 25]\n",
    "```\n",
    "\n",
    "```\n",
    "예시)\n",
    "    값 1의 index = (0,0)\n",
    "    값 2의 index = (0,1)\n",
    "    값 3의 index = (0,2)\n",
    "    ...\n",
    "    값 6의 index = (1,0)\n",
    "    값 7의 index = (1,1)\n",
    "    ...\n",
    "    값 25의 index = (4,4)\n",
    "```"
   ]
  },
  {
   "cell_type": "code",
   "execution_count": null,
   "metadata": {},
   "outputs": [],
   "source": [
    "#작성공간\n"
   ]
  },
  {
   "cell_type": "code",
   "execution_count": null,
   "metadata": {},
   "outputs": [],
   "source": [
    "#출력공간\n"
   ]
  },
  {
   "cell_type": "markdown",
   "metadata": {},
   "source": [
    "### Problem2\n",
    "<img src=\"./img/array_snail_p2.png\" alt=\"이중 배열 문제2\">\n",
    "\n",
    "```\n",
    "[1, 2, 3, 4, 5]\n",
    "[16, 17, 18, 19, 6]\n",
    "[15, 24, 25, 20, 7]\n",
    "[14, 23, 22, 21, 8]\n",
    "[13, 12, 11, 10, 9]\n",
    "```\n",
    "```\n",
    "예시)\n",
    "    값 1의 index = (0,0)\n",
    "    값 2의 index = (0,1)\n",
    "    값 3의 index = (0,2)\n",
    "    ...\n",
    "    값 16의 index = (1,0)\n",
    "    값 17의 index = (1,1)\n",
    "    ...\n",
    "    값 9의 index = (4,4)\n",
    "```"
   ]
  },
  {
   "cell_type": "code",
   "execution_count": null,
   "metadata": {},
   "outputs": [],
   "source": [
    "#작성공간\n"
   ]
  },
  {
   "cell_type": "code",
   "execution_count": null,
   "metadata": {},
   "outputs": [],
   "source": [
    "#출력공간\n"
   ]
  },
  {
   "cell_type": "markdown",
   "metadata": {},
   "source": [
    "<img src=\"./img/5_end.gif\" alt=\"월요일\">"
   ]
  }
 ],
 "metadata": {
  "kernelspec": {
   "display_name": "Python 3",
   "language": "python",
   "name": "python3"
  },
  "language_info": {
   "codemirror_mode": {
    "name": "ipython",
    "version": 3
   },
   "file_extension": ".py",
   "mimetype": "text/x-python",
   "name": "python",
   "nbconvert_exporter": "python",
   "pygments_lexer": "ipython3",
   "version": "3.6.7"
  }
 },
 "nbformat": 4,
 "nbformat_minor": 2
}

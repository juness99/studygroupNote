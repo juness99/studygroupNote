{
 "cells": [
  {
   "cell_type": "markdown",
   "metadata": {},
   "source": [
    "### [Problem1] Calc 계산기\n",
    "클래스 `Calc`는 method로 두 수를 더해주는 `add`, 두 수를 빼주는 `sub`,<br>\n",
    "두 수를 곱해주는 `mul`, 두 수를 나눠주는 `div`를 가지고 있습니다.<br>\n",
    "method는 값을 반환합니다.<br>\n",
    "기본값이 0일 때 `div`을 실행하면 error가 발생하므로 <span style=\"background:#FFD200\">\"0은 분모로 올수 없습니다\"</span>를 print해주세요.<br>\n",
    "또한, div에서 값이 반환되어지는 값이 정수(Integer)일 때는 `int` 타입으로 반환해주세요\n",
    "\n",
    "```\n",
    "편의상 예시는 표시하지 않고,\n",
    "결과는 앞에 >>>표시로 하겠습니다.\n",
    "\n",
    "calc.add(7)\n",
    ">>> 7\n",
    "calc.add(2)\n",
    ">>> 9\n",
    "calc.sub(5)\n",
    ">>> 4\n",
    "calc.mul(3)\n",
    ">>> 12\n",
    "calc.div(6)\n",
    ">>> 2\n",
    "calc.div(4)\n",
    ">>> 0.5\n",
    "```"
   ]
  },
  {
   "cell_type": "code",
   "execution_count": 1,
   "metadata": {},
   "outputs": [],
   "source": [
    "class Calc:\n",
    "    def __init__(self):\n",
    "        self.result = 0\n",
    "    \n",
    "    def add(self,x):\n",
    "        self.result += x\n",
    "        return self.result\n",
    "    \n",
    "    def sub(self,x):\n",
    "        self.result -= x\n",
    "        return self.result\n",
    "    \n",
    "    def mul(self,x):\n",
    "        self.result *= x\n",
    "        return self.result\n",
    "        \n",
    "    def div(self,x):\n",
    "        try:\n",
    "            if type(self.result) == type(5):\n",
    "                self.result /= x\n",
    "                result = int(self.result)\n",
    "            else:\n",
    "                self.result /= x\n",
    "                result =  self.result\n",
    "        except ZeroDivisionError:\n",
    "            result = \"0은 분모로 올수 없습니다\"\n",
    "        finally:\n",
    "            return result"
   ]
  },
  {
   "cell_type": "code",
   "execution_count": 2,
   "metadata": {},
   "outputs": [
    {
     "name": "stdout",
     "output_type": "stream",
     "text": [
      "7\n",
      "9\n",
      "4\n",
      "12\n",
      "2\n",
      "0.5\n"
     ]
    }
   ],
   "source": [
    "calc = Calc()\n",
    "print(calc.add(7))\n",
    "print(calc.add(2))\n",
    "print(calc.sub(5))\n",
    "print(calc.mul(3))\n",
    "print(calc.div(6))\n",
    "print(calc.div(4))"
   ]
  },
  {
   "cell_type": "code",
   "execution_count": 3,
   "metadata": {},
   "outputs": [
    {
     "name": "stdout",
     "output_type": "stream",
     "text": [
      "0은 분모로 올수 없습니다\n"
     ]
    }
   ],
   "source": [
    "calc = Calc()\n",
    "print(calc.div(0))"
   ]
  },
  {
   "cell_type": "markdown",
   "metadata": {},
   "source": [
    "<img src=\"./img/4_end.jpg\" alt=\"오늘은 금요일\">"
   ]
  }
 ],
 "metadata": {
  "kernelspec": {
   "display_name": "Python 3",
   "language": "python",
   "name": "python3"
  },
  "language_info": {
   "codemirror_mode": {
    "name": "ipython",
    "version": 3
   },
   "file_extension": ".py",
   "mimetype": "text/x-python",
   "name": "python",
   "nbconvert_exporter": "python",
   "pygments_lexer": "ipython3",
   "version": "3.6.7"
  }
 },
 "nbformat": 4,
 "nbformat_minor": 2
}

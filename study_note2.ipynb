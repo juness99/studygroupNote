{
 "cells": [
  {
   "cell_type": "markdown",
   "metadata": {},
   "source": [
    "# [Problem1]\n",
    "print를 한줄에 2개 이상 써서 사용해주세요.\n",
    "```\n",
    "예제)\n",
    "    print(\"안녕, \") print(\"Jupyter\")\n",
    "```"
   ]
  },
  {
   "cell_type": "code",
   "execution_count": null,
   "metadata": {},
   "outputs": [],
   "source": []
  },
  {
   "cell_type": "markdown",
   "metadata": {},
   "source": [
    "# [Problem2]\n",
    "print를 하나로 아래 문장을 써주세요.\n",
    "```\n",
    "예제)\n",
    "    안녕하세요\n",
    "    저는 파이썬을\n",
    "        배우고 있는\n",
    "            사람입니다.\n",
    "```"
   ]
  },
  {
   "cell_type": "code",
   "execution_count": null,
   "metadata": {},
   "outputs": [],
   "source": []
  },
  {
   "cell_type": "markdown",
   "metadata": {},
   "source": [
    "# [Problem3]\n",
    "복소수 `complex_data`를 켤레복소수로 만드는 함수 `complex_conjugate`를 만들어주세요.\n",
    "```\n",
    "예제)\n",
    "    복소수의 표기는 본래 i이므로 i로 하도록 하겠습니다.\n",
    "    프로그래밍을 하는데에는 j로 사용하셔야 합니다.\n",
    "    complex_conjugate(5i) => -5i\n",
    "    complex_conjugate(3+7i) => (3-7i)\n",
    "```"
   ]
  },
  {
   "cell_type": "code",
   "execution_count": null,
   "metadata": {},
   "outputs": [],
   "source": []
  },
  {
   "cell_type": "markdown",
   "metadata": {},
   "source": [
    "# [Problem4]\n",
    "10진수를 8진수로 변경하는 함수를 만들어주세요.\n",
    "```\n",
    "예제)\n",
    "    10 -> 0o12\n",
    "    7 -> 0o7\n",
    "    124 -> 0o174\n",
    "```"
   ]
  },
  {
   "cell_type": "code",
   "execution_count": null,
   "metadata": {
    "scrolled": true
   },
   "outputs": [],
   "source": []
  },
  {
   "cell_type": "markdown",
   "metadata": {},
   "source": [
    "# [Problem5]\n",
    "리스트`list_data`에 중간값을 리턴하는 `center_value` 함수를 만들어주세요.\n",
    "```\n",
    "예제)\n",
    "    list_data = [1,2,3,4,5]\n",
    "    center_value(list_data) => 3\n",
    "```"
   ]
  },
  {
   "cell_type": "code",
   "execution_count": null,
   "metadata": {},
   "outputs": [],
   "source": []
  },
  {
   "cell_type": "markdown",
   "metadata": {},
   "source": [
    "<img src=\"./img/2_end.jpg\" alt=\"파이팅\">"
   ]
  }
 ],
 "metadata": {
  "kernelspec": {
   "display_name": "Python 3",
   "language": "python",
   "name": "python3"
  },
  "language_info": {
   "codemirror_mode": {
    "name": "ipython",
    "version": 3
   },
   "file_extension": ".py",
   "mimetype": "text/x-python",
   "name": "python",
   "nbconvert_exporter": "python",
   "pygments_lexer": "ipython3",
   "version": "3.6.7"
  }
 },
 "nbformat": 4,
 "nbformat_minor": 2
}

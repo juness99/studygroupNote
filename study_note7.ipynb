{
 "cells": [
  {
   "cell_type": "markdown",
   "metadata": {},
   "source": [
    "### 식별자\n",
    " : 변수, 함수, 모듈, 클래스 등을 식별하는데 사용하는 이름\n",
    " - 식별자의 이름은 영문알파벳, _, 숫자로 구성\n",
    " - 첫 글자에 숫자가 올 수 없음\n",
    " - 대소문자 구별\n",
    " - 아래의 예약어는 사용 불가\n",
    "```python\n",
    "False, None, True, and, as, assert, break, class, continue, def, del, elif, else, except, finally, for, from, global, if, import, in, is, lambda, nonlocal, not, or, pass, raise, return, try, while, with, yield\n",
    "```\n",
    "\n",
    "- 내장함수, 모듈 등의 이름으로 만들어도 안됨\n",
    "```python\n",
    "max, min, sum, 등...\n",
    "```"
   ]
  },
  {
   "cell_type": "markdown",
   "metadata": {},
   "source": [
    "<h3><span style=\"color:#0066ff\">P</span><span style=\"color:#4d94ff\">01</span></h3>\n",
    "&emsp;식별자들을 직접 확인해보세요."
   ]
  },
  {
   "cell_type": "code",
   "execution_count": null,
   "metadata": {},
   "outputs": [],
   "source": []
  },
  {
   "cell_type": "markdown",
   "metadata": {},
   "source": [
    "<h3><span style=\"color:#0066ff\">P</span><span style=\"color:#4d94ff\">02</span></h3>\n",
    "\n",
    "```\n",
    "J가 x에는 100의 값을 그리고 y에는 80의 값을 넣어어하는데\n",
    "    x = 80\n",
    "    y = 100\n",
    "의 값으로 잘못 넣었다. 두개의 값을 올바르게 넣어주세요.\n",
    "(값 교체하기)\n",
    "```\n"
   ]
  },
  {
   "cell_type": "code",
   "execution_count": null,
   "metadata": {},
   "outputs": [],
   "source": [
    "x = 80\n",
    "y= 100"
   ]
  },
  {
   "cell_type": "markdown",
   "metadata": {},
   "source": [
    "<h3><span style=\"color:#0066ff\">P</span><span style=\"color:#4d94ff\">03</span></h3>\n",
    "\n",
    "```\n",
    "정수 23의 값을 2진수와 8진수, 16진수로 표현하세요.\n",
    "```"
   ]
  },
  {
   "cell_type": "code",
   "execution_count": null,
   "metadata": {},
   "outputs": [],
   "source": [
    "#2진수\n",
    "print()\n",
    "#8진수\n",
    "print()\n",
    "#16진수\n",
    "print()"
   ]
  },
  {
   "cell_type": "markdown",
   "metadata": {},
   "source": [
    "<h3><span style=\"color:#0066ff\">P</span><span style=\"color:#4d94ff\">04</span></h3>\n",
    "\n",
    "```\n",
    "파이썬에서 가장 큰 숫자를 가져와주세요.\n",
    "import sys를 활용합니다.\n",
    "(단, 더 큰 숫자를 쓸순있으나 sys모듈에서 제공하는 가장 큰 숫자를 사용합니다.)\n",
    "```"
   ]
  },
  {
   "cell_type": "code",
   "execution_count": null,
   "metadata": {},
   "outputs": [],
   "source": [
    "import sys\n"
   ]
  },
  {
   "cell_type": "markdown",
   "metadata": {},
   "source": [
    "<h3><span style=\"color:#0066ff\">P</span><span style=\"color:#4d94ff\">05</span></h3>\n",
    "\n",
    "```\n",
    "data = {} 의 데이터 타입을 알려주세요\n",
    "```"
   ]
  },
  {
   "cell_type": "code",
   "execution_count": null,
   "metadata": {},
   "outputs": [],
   "source": [
    "data = {}"
   ]
  },
  {
   "cell_type": "code",
   "execution_count": null,
   "metadata": {},
   "outputs": [],
   "source": [
    "print()"
   ]
  },
  {
   "cell_type": "markdown",
   "metadata": {},
   "source": [
    "<h3><span style=\"color:#0066ff\">P</span><span style=\"color:#4d94ff\">06</span></h3>\n",
    "\n",
    "```\n",
    "math 모듈에 있는 pi의 값을 아래와 같이 나타내주세요.\n",
    "1) 반올림(pi의 값을 소수 2째자리까지)\n",
    "2) 올림\n",
    "3) 내림\n",
    "4) 버림\n",
    "\n",
    "[결과값]\n",
    "    반올림 : 3.14\n",
    "    올림 : 4\n",
    "    내림 : 3\n",
    "    버림 : 3\n",
    "```"
   ]
  },
  {
   "cell_type": "code",
   "execution_count": null,
   "metadata": {},
   "outputs": [],
   "source": [
    "import math\n",
    "pi = math.pi\n",
    "print(\"반올림 :\", )\n",
    "print(\"올림 :\", )\n",
    "print(\"내림 :\", )\n",
    "print(\"버림 :\", )"
   ]
  },
  {
   "cell_type": "markdown",
   "metadata": {},
   "source": [
    "<h3><span style=\"color:#0066ff\">P</span><span style=\"color:#4d94ff\">07</span></h3>\n",
    "\n",
    "```\n",
    "complex_num은 복소수 3+5i의 값을 가지고 있다.\n",
    "복소수의 켤레복소수를 구하여주세요.\n",
    "```"
   ]
  },
  {
   "cell_type": "code",
   "execution_count": null,
   "metadata": {},
   "outputs": [],
   "source": [
    "complex_num = 3+5j"
   ]
  },
  {
   "cell_type": "code",
   "execution_count": null,
   "metadata": {},
   "outputs": [],
   "source": []
  },
  {
   "cell_type": "markdown",
   "metadata": {},
   "source": [
    "<h3><span style=\"color:#0066ff\">P</span><span style=\"color:#4d94ff\">08</span></h3>\n",
    "\n",
    "```\n",
    "data = \"안녕하세요, 저는 \"\n",
    "end_data = \"입니다.\"\n",
    "\n",
    "를 가지고 있습니다. 자신의 이름을 data와 end_data 사이에 name 변수에 넣어 문장을 완성하여 result 변수에 넣어주세요.\n",
    "```"
   ]
  },
  {
   "cell_type": "code",
   "execution_count": null,
   "metadata": {},
   "outputs": [],
   "source": [
    "data = \"안녕하세요, 저는 \"\n",
    "end_data = \"입니다.\"\n",
    "name = \"\""
   ]
  },
  {
   "cell_type": "code",
   "execution_count": null,
   "metadata": {},
   "outputs": [],
   "source": []
  },
  {
   "cell_type": "markdown",
   "metadata": {},
   "source": [
    "<h3><span style=\"color:#0066ff\">P</span><span style=\"color:#4d94ff\">09</span></h3>\n",
    "\n",
    "```\n",
    "8번 문제에서 완성한 result값에서\n",
    "    저는 {name}입니다.\n",
    "의 값만 result_sub의 값에 넣어주세요\n",
    "```"
   ]
  },
  {
   "cell_type": "code",
   "execution_count": null,
   "metadata": {},
   "outputs": [],
   "source": [
    "result_sub ="
   ]
  },
  {
   "cell_type": "markdown",
   "metadata": {},
   "source": [
    "<h3><span style=\"color:#0066ff\">P</span><span style=\"color:#4d94ff\">10</span></h3>\n",
    "\n",
    "```\n",
    "result_sub의 길이를 구하세요.\n",
    "```"
   ]
  },
  {
   "cell_type": "code",
   "execution_count": null,
   "metadata": {},
   "outputs": [],
   "source": []
  },
  {
   "cell_type": "markdown",
   "metadata": {},
   "source": [
    "<h3><span style=\"color:#0066ff\">P</span><span style=\"color:#4d94ff\">11</span></h3>\n",
    "\n",
    "```\n",
    "dict_value_index = {\n",
    "    \"apple\":\"사과\",\n",
    "    \"banana\":\"바나나\",\n",
    "    \"peach\":\"복숭아\"\n",
    "}\n",
    "가 있습니다.\n",
    "\n",
    "1) dict_value_index의 key값만 가져오세요\n",
    "2) dict_value_index의 value값만 가져오세요\n",
    "3) dict_value_index의 key, value값을 가져오세요\n",
    "4) dict_value_index의 \"peach\"로 \"복숭아\"의 값을 가져오세요\n",
    "5) dict_value_index의 \"바나나\"로 \"banana\"의 값을 가져오세요\n",
    "6) dict_value_index에 \"grape\"가 없다면 \"grape\"는 \"포도\"를 추가하여주세요. \n",
    "```"
   ]
  },
  {
   "cell_type": "code",
   "execution_count": null,
   "metadata": {},
   "outputs": [],
   "source": [
    "dict_value_index = {\n",
    "    \"apple\":\"사과\",\n",
    "    \"banana\":\"바나나\",\n",
    "    \"peach\":\"복숭아\"\n",
    "}"
   ]
  },
  {
   "cell_type": "code",
   "execution_count": null,
   "metadata": {
    "scrolled": true
   },
   "outputs": [],
   "source": []
  },
  {
   "cell_type": "markdown",
   "metadata": {},
   "source": [
    "<h3><span style=\"color:#0066ff\">P</span><span style=\"color:#4d94ff\">12</span></h3>\n",
    "\n",
    "```\n",
    "lunchs = [\"중식\",\"한식\",\"일식\",\"선택식\"]의 값을 가지고 있습니다.\n",
    "\n",
    "lunchs에 index값을 주어 1번부터 진행하고 싶습니다.\n",
    "index의 값을 주어 lunchs_index를 만들어주세요.\n",
    "```"
   ]
  },
  {
   "cell_type": "code",
   "execution_count": null,
   "metadata": {},
   "outputs": [],
   "source": [
    "lunchs = [\"중식\",\"한식\",\"일식\",\"선택식\"]\n",
    "lunchs_index =\n",
    "        \n",
    "print(lunchs_index)"
   ]
  },
  {
   "cell_type": "markdown",
   "metadata": {},
   "source": [
    "<h3><span style=\"color:#0066ff\">P</span><span style=\"color:#4d94ff\">13</span></h3>\n",
    "\n",
    "```\n",
    "직각삼각형의 넓이를 구하는 함수를 작성하여주세요.\n",
    "def triangle(width, height):\n",
    "\n",
    "\n",
    "[예시]\n",
    "    triangle(5,6)\n",
    "[결과값]\n",
    "    15.0\n",
    "```"
   ]
  },
  {
   "cell_type": "code",
   "execution_count": null,
   "metadata": {
    "scrolled": true
   },
   "outputs": [],
   "source": [
    "def triangle(width, height):\n",
    "    pass"
   ]
  }
 ],
 "metadata": {
  "kernelspec": {
   "display_name": "Python 3",
   "language": "python",
   "name": "python3"
  },
  "language_info": {
   "codemirror_mode": {
    "name": "ipython",
    "version": 3
   },
   "file_extension": ".py",
   "mimetype": "text/x-python",
   "name": "python",
   "nbconvert_exporter": "python",
   "pygments_lexer": "ipython3",
   "version": "3.6.7"
  }
 },
 "nbformat": 4,
 "nbformat_minor": 2
}
